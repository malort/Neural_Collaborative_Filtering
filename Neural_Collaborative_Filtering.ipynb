{
 "cells": [
  {
   "cell_type": "code",
   "execution_count": 1,
   "id": "c6dc9d74",
   "metadata": {},
   "outputs": [
    {
     "name": "stderr",
     "output_type": "stream",
     "text": [
      "Using TensorFlow backend.\n"
     ]
    }
   ],
   "source": [
    "import pandas as pd\n",
    "import numpy as np\n",
    "import re\n",
    "import string\n",
    "from datetime import datetime\n",
    "from keras.models import Model\n",
    "from keras.layers import Input\n",
    "from keras.layers import Dense\n",
    "from keras.layers import Flatten\n",
    "from keras.layers import Dropout\n",
    "from keras.layers import Embedding\n",
    "from keras.layers import concatenate\n",
    "from keras.layers import Multiply\n",
    "from keras.optimizers import Adam\n",
    "from keras.utils.vis_utils import plot_model\n",
    "from sklearn.preprocessing import LabelEncoder\n",
    "from IPython.display import Image"
   ]
  },
  {
   "cell_type": "code",
   "execution_count": 2,
   "id": "09e0ae50",
   "metadata": {},
   "outputs": [],
   "source": [
    "df_ratings=pd.read_csv('ratings.csv')"
   ]
  },
  {
   "cell_type": "code",
   "execution_count": 3,
   "id": "90d21234",
   "metadata": {},
   "outputs": [
    {
     "data": {
      "text/plain": [
       "(100836, 4)"
      ]
     },
     "execution_count": 3,
     "metadata": {},
     "output_type": "execute_result"
    }
   ],
   "source": [
    "df_ratings.shape"
   ]
  },
  {
   "cell_type": "code",
   "execution_count": 4,
   "id": "393b1481",
   "metadata": {},
   "outputs": [
    {
     "data": {
      "text/html": [
       "<div>\n",
       "<style scoped>\n",
       "    .dataframe tbody tr th:only-of-type {\n",
       "        vertical-align: middle;\n",
       "    }\n",
       "\n",
       "    .dataframe tbody tr th {\n",
       "        vertical-align: top;\n",
       "    }\n",
       "\n",
       "    .dataframe thead th {\n",
       "        text-align: right;\n",
       "    }\n",
       "</style>\n",
       "<table border=\"1\" class=\"dataframe\">\n",
       "  <thead>\n",
       "    <tr style=\"text-align: right;\">\n",
       "      <th></th>\n",
       "      <th>userId</th>\n",
       "      <th>movieId</th>\n",
       "      <th>rating</th>\n",
       "      <th>timestamp</th>\n",
       "    </tr>\n",
       "  </thead>\n",
       "  <tbody>\n",
       "    <tr>\n",
       "      <th>0</th>\n",
       "      <td>1</td>\n",
       "      <td>1</td>\n",
       "      <td>4.0</td>\n",
       "      <td>964982703</td>\n",
       "    </tr>\n",
       "    <tr>\n",
       "      <th>1</th>\n",
       "      <td>1</td>\n",
       "      <td>3</td>\n",
       "      <td>4.0</td>\n",
       "      <td>964981247</td>\n",
       "    </tr>\n",
       "    <tr>\n",
       "      <th>2</th>\n",
       "      <td>1</td>\n",
       "      <td>6</td>\n",
       "      <td>4.0</td>\n",
       "      <td>964982224</td>\n",
       "    </tr>\n",
       "    <tr>\n",
       "      <th>3</th>\n",
       "      <td>1</td>\n",
       "      <td>47</td>\n",
       "      <td>5.0</td>\n",
       "      <td>964983815</td>\n",
       "    </tr>\n",
       "    <tr>\n",
       "      <th>4</th>\n",
       "      <td>1</td>\n",
       "      <td>50</td>\n",
       "      <td>5.0</td>\n",
       "      <td>964982931</td>\n",
       "    </tr>\n",
       "  </tbody>\n",
       "</table>\n",
       "</div>"
      ],
      "text/plain": [
       "   userId  movieId  rating  timestamp\n",
       "0       1        1     4.0  964982703\n",
       "1       1        3     4.0  964981247\n",
       "2       1        6     4.0  964982224\n",
       "3       1       47     5.0  964983815\n",
       "4       1       50     5.0  964982931"
      ]
     },
     "execution_count": 4,
     "metadata": {},
     "output_type": "execute_result"
    }
   ],
   "source": [
    "df_ratings.head()"
   ]
  },
  {
   "cell_type": "code",
   "execution_count": 5,
   "id": "aaa173fd",
   "metadata": {},
   "outputs": [],
   "source": [
    "# sort df by timestamp \n",
    "df_ratings = df_ratings.sort_values('timestamp')"
   ]
  },
  {
   "cell_type": "code",
   "execution_count": 6,
   "id": "eb73adac",
   "metadata": {},
   "outputs": [],
   "source": [
    "# encode\n",
    "user_encoder = LabelEncoder()\n",
    "movie_encoder = LabelEncoder()\n",
    "\n",
    "user_ids = user_encoder.fit_transform(df_ratings.userId)\n",
    "movie_ids = movie_encoder.fit_transform(df_ratings.movieId)"
   ]
  },
  {
   "cell_type": "code",
   "execution_count": 7,
   "id": "fb20ba7d",
   "metadata": {},
   "outputs": [],
   "source": [
    "# split dataset\n",
    "num_train = int(len(user_ids) * 0.8)\n",
    "train_user_ids = user_ids[:num_train]\n",
    "train_movie_ids = movie_ids[:num_train]\n",
    "train_ratings = df_ratings.rating.values[:num_train]\n",
    "val_user_ids = user_ids[num_train:]\n",
    "val_movie_ids = movie_ids[num_train:]\n",
    "val_ratings = df_ratings.rating.values[num_train:]"
   ]
  },
  {
   "cell_type": "code",
   "execution_count": 8,
   "id": "e37b6602",
   "metadata": {},
   "outputs": [],
   "source": [
    "num_users= user_ids.max()+1\n",
    "num_movies = movie_ids.max() + 1"
   ]
  },
  {
   "cell_type": "code",
   "execution_count": 9,
   "id": "e613c558",
   "metadata": {},
   "outputs": [],
   "source": [
    "# ratings normalization\n",
    "train_ratings /= 5\n",
    "val_ratings /= 5"
   ]
  },
  {
   "cell_type": "markdown",
   "id": "84fc9250",
   "metadata": {},
   "source": [
    "### Define model"
   ]
  },
  {
   "cell_type": "code",
   "execution_count": 10,
   "id": "7428cf52",
   "metadata": {},
   "outputs": [],
   "source": [
    "def define_model():\n",
    "    user_inp = Input((1,))\n",
    "    user_hidden = Embedding(input_dim=num_users, output_dim=64)(user_inp)\n",
    "    user_hidden = Flatten()(user_hidden)\n",
    "    \n",
    "    item_inp = Input((1,))\n",
    "    item_hidden = Embedding(input_dim=num_movies, output_dim=64)(item_inp)\n",
    "    item_hidden = Flatten()(item_hidden)\n",
    "    \n",
    "    # element-wise multiplication\n",
    "    mf_output = Multiply()([user_hidden, item_hidden])\n",
    "    \n",
    "    hidden = concatenate([user_hidden, item_hidden])\n",
    "    hidden = Dense(128, activation='relu')(hidden)\n",
    "    hidden = Dropout(0.2)(hidden)\n",
    "    mlp_output = Dense(64, activation='relu')(hidden)    \n",
    "\n",
    "    \n",
    "    output = concatenate([mf_output, mlp_output])\n",
    "    output = Dense(1, activation='sigmoid')(output)\n",
    "    \n",
    "    model = Model(inputs=[user_inp, item_inp], outputs=output)\n",
    "    model.compile(loss='mse', optimizer='adam')\n",
    "    plot_model(model, show_shapes=True, to_file='neural_col.png')\n",
    "    return model"
   ]
  },
  {
   "cell_type": "code",
   "execution_count": 11,
   "id": "06d33e5e",
   "metadata": {},
   "outputs": [
    {
     "name": "stdout",
     "output_type": "stream",
     "text": [
      "Model: \"model_1\"\n",
      "__________________________________________________________________________________________________\n",
      "Layer (type)                    Output Shape         Param #     Connected to                     \n",
      "==================================================================================================\n",
      "input_1 (InputLayer)            (None, 1)            0                                            \n",
      "__________________________________________________________________________________________________\n",
      "input_2 (InputLayer)            (None, 1)            0                                            \n",
      "__________________________________________________________________________________________________\n",
      "embedding_1 (Embedding)         (None, 1, 64)        39040       input_1[0][0]                    \n",
      "__________________________________________________________________________________________________\n",
      "embedding_2 (Embedding)         (None, 1, 64)        622336      input_2[0][0]                    \n",
      "__________________________________________________________________________________________________\n",
      "flatten_1 (Flatten)             (None, 64)           0           embedding_1[0][0]                \n",
      "__________________________________________________________________________________________________\n",
      "flatten_2 (Flatten)             (None, 64)           0           embedding_2[0][0]                \n",
      "__________________________________________________________________________________________________\n",
      "concatenate_1 (Concatenate)     (None, 128)          0           flatten_1[0][0]                  \n",
      "                                                                 flatten_2[0][0]                  \n",
      "__________________________________________________________________________________________________\n",
      "dense_1 (Dense)                 (None, 128)          16512       concatenate_1[0][0]              \n",
      "__________________________________________________________________________________________________\n",
      "dropout_1 (Dropout)             (None, 128)          0           dense_1[0][0]                    \n",
      "__________________________________________________________________________________________________\n",
      "multiply_1 (Multiply)           (None, 64)           0           flatten_1[0][0]                  \n",
      "                                                                 flatten_2[0][0]                  \n",
      "__________________________________________________________________________________________________\n",
      "dense_2 (Dense)                 (None, 64)           8256        dropout_1[0][0]                  \n",
      "__________________________________________________________________________________________________\n",
      "concatenate_2 (Concatenate)     (None, 128)          0           multiply_1[0][0]                 \n",
      "                                                                 dense_2[0][0]                    \n",
      "__________________________________________________________________________________________________\n",
      "dense_3 (Dense)                 (None, 1)            129         concatenate_2[0][0]              \n",
      "==================================================================================================\n",
      "Total params: 686,273\n",
      "Trainable params: 686,273\n",
      "Non-trainable params: 0\n",
      "__________________________________________________________________________________________________\n"
     ]
    }
   ],
   "source": [
    "model = define_model()\n",
    "model.summary()"
   ]
  },
  {
   "cell_type": "code",
   "execution_count": 12,
   "id": "076ff9ac",
   "metadata": {},
   "outputs": [
    {
     "data": {
      "image/png": "[encoded data removed]",
      "text/plain": [
       "<IPython.core.display.Image object>"
      ]
     },
     "execution_count": 12,
     "metadata": {
      "image/png": {
       "height": 512,
       "width": 680
      }
     },
     "output_type": "execute_result"
    }
   ],
   "source": [
    "Image('neural_col.png', width= 680, height=512)"
   ]
  },
  {
   "cell_type": "markdown",
   "id": "c1937234",
   "metadata": {},
   "source": [
    "### Train"
   ]
  },
  {
   "cell_type": "code",
   "execution_count": 13,
   "id": "8e887918",
   "metadata": {},
   "outputs": [
    {
     "name": "stderr",
     "output_type": "stream",
     "text": [
      "C:\\Users\\Mi\\anaconda3\\envs\\env_nlpgpu\\lib\\site-packages\\tensorflow_core\\python\\framework\\indexed_slices.py:433: UserWarning: Converting sparse IndexedSlices to a dense Tensor of unknown shape. This may consume a large amount of memory.\n",
      "  \"Converting sparse IndexedSlices to a dense Tensor of unknown shape. \"\n"
     ]
    },
    {
     "name": "stdout",
     "output_type": "stream",
     "text": [
      "Train on 80668 samples, validate on 20168 samples\n",
      "Epoch 1/10\n",
      "80668/80668 [==============================] - 6s 76us/step - loss: 0.0339 - val_loss: 0.0418\n",
      "Epoch 2/10\n",
      "80668/80668 [==============================] - 6s 71us/step - loss: 0.0280 - val_loss: 0.0412\n",
      "Epoch 3/10\n",
      "80668/80668 [==============================] - 6s 71us/step - loss: 0.0258 - val_loss: 0.0422\n",
      "Epoch 4/10\n",
      "80668/80668 [==============================] - 6s 70us/step - loss: 0.0236 - val_loss: 0.0428\n",
      "Epoch 5/10\n",
      "80668/80668 [==============================] - 6s 70us/step - loss: 0.0212 - val_loss: 0.0459\n",
      "Epoch 6/10\n",
      "80668/80668 [==============================] - 6s 70us/step - loss: 0.0189 - val_loss: 0.0502\n",
      "Epoch 7/10\n",
      "80668/80668 [==============================] - 6s 70us/step - loss: 0.0168 - val_loss: 0.0566\n",
      "Epoch 8/10\n",
      "80668/80668 [==============================] - 6s 71us/step - loss: 0.0152 - val_loss: 0.0595\n",
      "Epoch 9/10\n",
      "80668/80668 [==============================] - 6s 72us/step - loss: 0.0140 - val_loss: 0.0620\n",
      "Epoch 10/10\n",
      "80668/80668 [==============================] - 6s 71us/step - loss: 0.0129 - val_loss: 0.0679\n"
     ]
    },
    {
     "data": {
      "text/plain": [
       "<keras.callbacks.callbacks.History at 0x140d0043b88>"
      ]
     },
     "execution_count": 13,
     "metadata": {},
     "output_type": "execute_result"
    }
   ],
   "source": [
    "# Train \n",
    "model.fit([train_user_ids, train_movie_ids], train_ratings,\\\n",
    "          validation_data=([val_user_ids, val_movie_ids], val_ratings), epochs=10, batch_size=128)"
   ]
  },
  {
   "cell_type": "markdown",
   "id": "51d5d1e3",
   "metadata": {},
   "source": [
    "### Evaluation"
   ]
  },
  {
   "cell_type": "code",
   "execution_count": 14,
   "id": "c4a5612e",
   "metadata": {},
   "outputs": [],
   "source": [
    "def dcg_at_k(r, k):\n",
    "    '''\n",
    "    Compute DCG\n",
    "    args:\n",
    "        r: np.array, to be evaluated\n",
    "        k: int, number of entries to be considered\n",
    "    \n",
    "    returns:\n",
    "        dcg: float, computed dcg\n",
    "        \n",
    "    '''\n",
    "    r = r[:k]\n",
    "    dcg = np.sum(r / np.log2(np.arange(2, len(r) + 2)))\n",
    "    return dcg"
   ]
  },
  {
   "cell_type": "code",
   "execution_count": 15,
   "id": "e558fefb",
   "metadata": {},
   "outputs": [],
   "source": [
    "def ndcg_at_k(r, k, method=0):\n",
    "    '''\n",
    "    Compute NDCG\n",
    "    args:\n",
    "        r: np.array, to be evaluated\n",
    "        k: int, number of entries to be considered\n",
    "    \n",
    "    returns:\n",
    "        dcg: float, computed ndcg\n",
    "        \n",
    "    '''\n",
    "    dcg_max = dcg_at_k(sorted(r, reverse=True), k)\n",
    "\n",
    "    return dcg_at_k(r, k) / dcg_max"
   ]
  },
  {
   "cell_type": "code",
   "execution_count": 16,
   "id": "1f2133b3",
   "metadata": {},
   "outputs": [],
   "source": [
    "def evaluate_prediction(predictions):\n",
    "    '''\n",
    "    Return the average ndcg for each users\n",
    "    args:\n",
    "        predictions: np.array user-item predictions\n",
    "    returns:\n",
    "        ndcg: float, computed NDCG\n",
    "    '''\n",
    "    ndcgs = []\n",
    "    for target_user in np.unique(val_user_ids):\n",
    "        # get movie ids and ratings associated with the target user.\n",
    "        target_val_movie_ids = val_movie_ids[val_user_ids == target_user] \n",
    "        target_val_ratings = val_ratings[val_user_ids == target_user] \n",
    "        \n",
    "        # compute ndcg for this user\n",
    "        ndcg = ndcg_at_k(target_val_ratings[np.argsort(-predictions[val_user_ids == target_user])], k=30)\n",
    "        ndcgs.append(ndcg)\n",
    "    ndcg = np.mean(ndcgs)\n",
    "    return ndcg"
   ]
  },
  {
   "cell_type": "code",
   "execution_count": 17,
   "id": "1a472ff5",
   "metadata": {},
   "outputs": [
    {
     "data": {
      "text/plain": [
       "0.8679954603584514"
      ]
     },
     "execution_count": 17,
     "metadata": {},
     "output_type": "execute_result"
    }
   ],
   "source": [
    "# prediction and evaluation\n",
    "predictions = model.predict([val_user_ids, val_movie_ids])\n",
    "evaluate_prediction(predictions[:,0])"
   ]
  },
  {
   "cell_type": "markdown",
   "id": "822b4183",
   "metadata": {},
   "source": [
    "### Add features"
   ]
  },
  {
   "cell_type": "code",
   "execution_count": 18,
   "id": "dde13d74",
   "metadata": {},
   "outputs": [],
   "source": [
    "df_movies = pd.read_csv('movies.csv')"
   ]
  },
  {
   "cell_type": "code",
   "execution_count": 19,
   "id": "4d2a10e0",
   "metadata": {},
   "outputs": [
    {
     "data": {
      "text/html": [
       "<div>\n",
       "<style scoped>\n",
       "    .dataframe tbody tr th:only-of-type {\n",
       "        vertical-align: middle;\n",
       "    }\n",
       "\n",
       "    .dataframe tbody tr th {\n",
       "        vertical-align: top;\n",
       "    }\n",
       "\n",
       "    .dataframe thead th {\n",
       "        text-align: right;\n",
       "    }\n",
       "</style>\n",
       "<table border=\"1\" class=\"dataframe\">\n",
       "  <thead>\n",
       "    <tr style=\"text-align: right;\">\n",
       "      <th></th>\n",
       "      <th>movieId</th>\n",
       "      <th>title</th>\n",
       "      <th>genres</th>\n",
       "    </tr>\n",
       "  </thead>\n",
       "  <tbody>\n",
       "    <tr>\n",
       "      <th>0</th>\n",
       "      <td>1</td>\n",
       "      <td>Toy Story (1995)</td>\n",
       "      <td>Adventure|Animation|Children|Comedy|Fantasy</td>\n",
       "    </tr>\n",
       "    <tr>\n",
       "      <th>1</th>\n",
       "      <td>2</td>\n",
       "      <td>Jumanji (1995)</td>\n",
       "      <td>Adventure|Children|Fantasy</td>\n",
       "    </tr>\n",
       "    <tr>\n",
       "      <th>2</th>\n",
       "      <td>3</td>\n",
       "      <td>Grumpier Old Men (1995)</td>\n",
       "      <td>Comedy|Romance</td>\n",
       "    </tr>\n",
       "    <tr>\n",
       "      <th>3</th>\n",
       "      <td>4</td>\n",
       "      <td>Waiting to Exhale (1995)</td>\n",
       "      <td>Comedy|Drama|Romance</td>\n",
       "    </tr>\n",
       "    <tr>\n",
       "      <th>4</th>\n",
       "      <td>5</td>\n",
       "      <td>Father of the Bride Part II (1995)</td>\n",
       "      <td>Comedy</td>\n",
       "    </tr>\n",
       "  </tbody>\n",
       "</table>\n",
       "</div>"
      ],
      "text/plain": [
       "   movieId                               title  \\\n",
       "0        1                    Toy Story (1995)   \n",
       "1        2                      Jumanji (1995)   \n",
       "2        3             Grumpier Old Men (1995)   \n",
       "3        4            Waiting to Exhale (1995)   \n",
       "4        5  Father of the Bride Part II (1995)   \n",
       "\n",
       "                                        genres  \n",
       "0  Adventure|Animation|Children|Comedy|Fantasy  \n",
       "1                   Adventure|Children|Fantasy  \n",
       "2                               Comedy|Romance  \n",
       "3                         Comedy|Drama|Romance  \n",
       "4                                       Comedy  "
      ]
     },
     "execution_count": 19,
     "metadata": {},
     "output_type": "execute_result"
    }
   ],
   "source": [
    "df_movies.head()"
   ]
  },
  {
   "cell_type": "code",
   "execution_count": 20,
   "id": "8ba31030",
   "metadata": {},
   "outputs": [
    {
     "data": {
      "text/plain": [
       "9742"
      ]
     },
     "execution_count": 20,
     "metadata": {},
     "output_type": "execute_result"
    }
   ],
   "source": [
    "df_movies.movieId.nunique()"
   ]
  },
  {
   "cell_type": "code",
   "execution_count": 21,
   "id": "3910228c",
   "metadata": {},
   "outputs": [],
   "source": [
    "# merge datasets on movieId\n",
    "df_feat = df_ratings.merge(right=df_movies, how='left', on='movieId')"
   ]
  },
  {
   "cell_type": "code",
   "execution_count": 22,
   "id": "ae8f15de",
   "metadata": {},
   "outputs": [
    {
     "data": {
      "text/html": [
       "<div>\n",
       "<style scoped>\n",
       "    .dataframe tbody tr th:only-of-type {\n",
       "        vertical-align: middle;\n",
       "    }\n",
       "\n",
       "    .dataframe tbody tr th {\n",
       "        vertical-align: top;\n",
       "    }\n",
       "\n",
       "    .dataframe thead th {\n",
       "        text-align: right;\n",
       "    }\n",
       "</style>\n",
       "<table border=\"1\" class=\"dataframe\">\n",
       "  <thead>\n",
       "    <tr style=\"text-align: right;\">\n",
       "      <th></th>\n",
       "      <th>userId</th>\n",
       "      <th>movieId</th>\n",
       "      <th>rating</th>\n",
       "      <th>timestamp</th>\n",
       "      <th>title</th>\n",
       "      <th>genres</th>\n",
       "    </tr>\n",
       "  </thead>\n",
       "  <tbody>\n",
       "    <tr>\n",
       "      <th>0</th>\n",
       "      <td>429</td>\n",
       "      <td>595</td>\n",
       "      <td>1.0</td>\n",
       "      <td>828124615</td>\n",
       "      <td>Beauty and the Beast (1991)</td>\n",
       "      <td>Animation|Children|Fantasy|Musical|Romance|IMAX</td>\n",
       "    </tr>\n",
       "    <tr>\n",
       "      <th>1</th>\n",
       "      <td>429</td>\n",
       "      <td>588</td>\n",
       "      <td>1.0</td>\n",
       "      <td>828124615</td>\n",
       "      <td>Aladdin (1992)</td>\n",
       "      <td>Adventure|Animation|Children|Comedy|Musical</td>\n",
       "    </tr>\n",
       "  </tbody>\n",
       "</table>\n",
       "</div>"
      ],
      "text/plain": [
       "   userId  movieId  rating  timestamp                        title  \\\n",
       "0     429      595     1.0  828124615  Beauty and the Beast (1991)   \n",
       "1     429      588     1.0  828124615               Aladdin (1992)   \n",
       "\n",
       "                                            genres  \n",
       "0  Animation|Children|Fantasy|Musical|Romance|IMAX  \n",
       "1      Adventure|Animation|Children|Comedy|Musical  "
      ]
     },
     "execution_count": 22,
     "metadata": {},
     "output_type": "execute_result"
    }
   ],
   "source": [
    "df_feat.head(2)"
   ]
  },
  {
   "cell_type": "code",
   "execution_count": 23,
   "id": "d0134922",
   "metadata": {},
   "outputs": [
    {
     "name": "stdout",
     "output_type": "stream",
     "text": [
      "['Action', 'Comedy', 'Sci-Fi', 'Drama', 'Musical', 'Animation', 'Western', 'Documentary', 'Film-Noir', 'Adventure', 'Mystery', 'War', 'IMAX', 'Children', 'Horror', 'Thriller', 'Romance', 'Crime', 'Fantasy']\n"
     ]
    }
   ],
   "source": [
    "# split tags in genres \n",
    "tags = [i.split(\"|\") for i in df_feat[\"genres\"].unique()]\n",
    "columns = list(set([i for lst in tags for i in lst]))\n",
    "columns.remove('(no genres listed)')\n",
    "print(columns)"
   ]
  },
  {
   "cell_type": "code",
   "execution_count": 24,
   "id": "a30b2d23",
   "metadata": {},
   "outputs": [
    {
     "data": {
      "text/html": [
       "<div>\n",
       "<style scoped>\n",
       "    .dataframe tbody tr th:only-of-type {\n",
       "        vertical-align: middle;\n",
       "    }\n",
       "\n",
       "    .dataframe tbody tr th {\n",
       "        vertical-align: top;\n",
       "    }\n",
       "\n",
       "    .dataframe thead th {\n",
       "        text-align: right;\n",
       "    }\n",
       "</style>\n",
       "<table border=\"1\" class=\"dataframe\">\n",
       "  <thead>\n",
       "    <tr style=\"text-align: right;\">\n",
       "      <th></th>\n",
       "      <th>userId</th>\n",
       "      <th>movieId</th>\n",
       "      <th>rating</th>\n",
       "      <th>timestamp</th>\n",
       "      <th>title</th>\n",
       "      <th>genres</th>\n",
       "      <th>Action</th>\n",
       "      <th>Comedy</th>\n",
       "      <th>Sci-Fi</th>\n",
       "      <th>Drama</th>\n",
       "      <th>...</th>\n",
       "      <th>Adventure</th>\n",
       "      <th>Mystery</th>\n",
       "      <th>War</th>\n",
       "      <th>IMAX</th>\n",
       "      <th>Children</th>\n",
       "      <th>Horror</th>\n",
       "      <th>Thriller</th>\n",
       "      <th>Romance</th>\n",
       "      <th>Crime</th>\n",
       "      <th>Fantasy</th>\n",
       "    </tr>\n",
       "  </thead>\n",
       "  <tbody>\n",
       "    <tr>\n",
       "      <th>0</th>\n",
       "      <td>429</td>\n",
       "      <td>595</td>\n",
       "      <td>1.0</td>\n",
       "      <td>828124615</td>\n",
       "      <td>Beauty and the Beast (1991)</td>\n",
       "      <td>Animation|Children|Fantasy|Musical|Romance|IMAX</td>\n",
       "      <td>0</td>\n",
       "      <td>0</td>\n",
       "      <td>0</td>\n",
       "      <td>0</td>\n",
       "      <td>...</td>\n",
       "      <td>0</td>\n",
       "      <td>0</td>\n",
       "      <td>0</td>\n",
       "      <td>1</td>\n",
       "      <td>1</td>\n",
       "      <td>0</td>\n",
       "      <td>0</td>\n",
       "      <td>1</td>\n",
       "      <td>0</td>\n",
       "      <td>1</td>\n",
       "    </tr>\n",
       "    <tr>\n",
       "      <th>1</th>\n",
       "      <td>429</td>\n",
       "      <td>588</td>\n",
       "      <td>1.0</td>\n",
       "      <td>828124615</td>\n",
       "      <td>Aladdin (1992)</td>\n",
       "      <td>Adventure|Animation|Children|Comedy|Musical</td>\n",
       "      <td>0</td>\n",
       "      <td>1</td>\n",
       "      <td>0</td>\n",
       "      <td>0</td>\n",
       "      <td>...</td>\n",
       "      <td>1</td>\n",
       "      <td>0</td>\n",
       "      <td>0</td>\n",
       "      <td>0</td>\n",
       "      <td>1</td>\n",
       "      <td>0</td>\n",
       "      <td>0</td>\n",
       "      <td>0</td>\n",
       "      <td>0</td>\n",
       "      <td>0</td>\n",
       "    </tr>\n",
       "    <tr>\n",
       "      <th>2</th>\n",
       "      <td>429</td>\n",
       "      <td>590</td>\n",
       "      <td>1.0</td>\n",
       "      <td>828124615</td>\n",
       "      <td>Dances with Wolves (1990)</td>\n",
       "      <td>Adventure|Drama|Western</td>\n",
       "      <td>0</td>\n",
       "      <td>0</td>\n",
       "      <td>0</td>\n",
       "      <td>1</td>\n",
       "      <td>...</td>\n",
       "      <td>1</td>\n",
       "      <td>0</td>\n",
       "      <td>0</td>\n",
       "      <td>0</td>\n",
       "      <td>0</td>\n",
       "      <td>0</td>\n",
       "      <td>0</td>\n",
       "      <td>0</td>\n",
       "      <td>0</td>\n",
       "      <td>0</td>\n",
       "    </tr>\n",
       "    <tr>\n",
       "      <th>3</th>\n",
       "      <td>429</td>\n",
       "      <td>592</td>\n",
       "      <td>1.0</td>\n",
       "      <td>828124615</td>\n",
       "      <td>Batman (1989)</td>\n",
       "      <td>Action|Crime|Thriller</td>\n",
       "      <td>1</td>\n",
       "      <td>0</td>\n",
       "      <td>0</td>\n",
       "      <td>0</td>\n",
       "      <td>...</td>\n",
       "      <td>0</td>\n",
       "      <td>0</td>\n",
       "      <td>0</td>\n",
       "      <td>0</td>\n",
       "      <td>0</td>\n",
       "      <td>0</td>\n",
       "      <td>1</td>\n",
       "      <td>0</td>\n",
       "      <td>1</td>\n",
       "      <td>0</td>\n",
       "    </tr>\n",
       "    <tr>\n",
       "      <th>4</th>\n",
       "      <td>429</td>\n",
       "      <td>432</td>\n",
       "      <td>0.6</td>\n",
       "      <td>828124615</td>\n",
       "      <td>City Slickers II: The Legend of Curly's Gold (...</td>\n",
       "      <td>Adventure|Comedy|Western</td>\n",
       "      <td>0</td>\n",
       "      <td>1</td>\n",
       "      <td>0</td>\n",
       "      <td>0</td>\n",
       "      <td>...</td>\n",
       "      <td>1</td>\n",
       "      <td>0</td>\n",
       "      <td>0</td>\n",
       "      <td>0</td>\n",
       "      <td>0</td>\n",
       "      <td>0</td>\n",
       "      <td>0</td>\n",
       "      <td>0</td>\n",
       "      <td>0</td>\n",
       "      <td>0</td>\n",
       "    </tr>\n",
       "  </tbody>\n",
       "</table>\n",
       "<p>5 rows × 25 columns</p>\n",
       "</div>"
      ],
      "text/plain": [
       "   userId  movieId  rating  timestamp  \\\n",
       "0     429      595     1.0  828124615   \n",
       "1     429      588     1.0  828124615   \n",
       "2     429      590     1.0  828124615   \n",
       "3     429      592     1.0  828124615   \n",
       "4     429      432     0.6  828124615   \n",
       "\n",
       "                                               title  \\\n",
       "0                        Beauty and the Beast (1991)   \n",
       "1                                     Aladdin (1992)   \n",
       "2                          Dances with Wolves (1990)   \n",
       "3                                      Batman (1989)   \n",
       "4  City Slickers II: The Legend of Curly's Gold (...   \n",
       "\n",
       "                                            genres  Action  Comedy  Sci-Fi  \\\n",
       "0  Animation|Children|Fantasy|Musical|Romance|IMAX       0       0       0   \n",
       "1      Adventure|Animation|Children|Comedy|Musical       0       1       0   \n",
       "2                          Adventure|Drama|Western       0       0       0   \n",
       "3                            Action|Crime|Thriller       1       0       0   \n",
       "4                         Adventure|Comedy|Western       0       1       0   \n",
       "\n",
       "   Drama  ...  Adventure  Mystery  War  IMAX  Children  Horror  Thriller  \\\n",
       "0      0  ...          0        0    0     1         1       0         0   \n",
       "1      0  ...          1        0    0     0         1       0         0   \n",
       "2      1  ...          1        0    0     0         0       0         0   \n",
       "3      0  ...          0        0    0     0         0       0         1   \n",
       "4      0  ...          1        0    0     0         0       0         0   \n",
       "\n",
       "   Romance  Crime  Fantasy  \n",
       "0        1      0        1  \n",
       "1        0      0        0  \n",
       "2        0      0        0  \n",
       "3        0      1        0  \n",
       "4        0      0        0  \n",
       "\n",
       "[5 rows x 25 columns]"
      ]
     },
     "execution_count": 24,
     "metadata": {},
     "output_type": "execute_result"
    }
   ],
   "source": [
    "# add binary column for each genre\n",
    "for col in columns:\n",
    "    df_feat[col] = df_feat[\"genres\"].apply(lambda x: 1 if col in x else 0)\n",
    "df_feat.head()"
   ]
  },
  {
   "cell_type": "code",
   "execution_count": 25,
   "id": "84037ef2",
   "metadata": {},
   "outputs": [
    {
     "data": {
      "text/plain": [
       "(20168, 19)"
      ]
     },
     "execution_count": 25,
     "metadata": {},
     "output_type": "execute_result"
    }
   ],
   "source": [
    "# Split datasets\n",
    "val_feat = df_feat[num_train:]\n",
    "val_feat = val_feat[columns]\n",
    "val_feat.shape"
   ]
  },
  {
   "cell_type": "code",
   "execution_count": 26,
   "id": "bd94cd0a",
   "metadata": {},
   "outputs": [],
   "source": [
    "val_feat = val_feat.to_numpy()"
   ]
  },
  {
   "cell_type": "code",
   "execution_count": 27,
   "id": "9c335543",
   "metadata": {},
   "outputs": [
    {
     "data": {
      "text/plain": [
       "(80668, 19)"
      ]
     },
     "execution_count": 27,
     "metadata": {},
     "output_type": "execute_result"
    }
   ],
   "source": [
    "train_feat = df_feat[:num_train][columns]\n",
    "train_feat.shape"
   ]
  },
  {
   "cell_type": "code",
   "execution_count": 28,
   "id": "ead340c7",
   "metadata": {},
   "outputs": [],
   "source": [
    "train_feat = df_feat[:num_train][columns]\n",
    "train_user_ids = user_ids[:num_train]\n",
    "train_movie_ids = movie_ids[:num_train]\n",
    "train_ratings = df_ratings.rating.values[:num_train]"
   ]
  },
  {
   "cell_type": "code",
   "execution_count": 29,
   "id": "ba643e91",
   "metadata": {},
   "outputs": [],
   "source": [
    "feat=19"
   ]
  },
  {
   "cell_type": "code",
   "execution_count": 30,
   "id": "72c42cda",
   "metadata": {},
   "outputs": [],
   "source": [
    "from keras import regularizers"
   ]
  },
  {
   "cell_type": "code",
   "execution_count": 31,
   "id": "b4bf9c44",
   "metadata": {},
   "outputs": [],
   "source": [
    "def define_model2():\n",
    "    user_inp = Input((1,))\n",
    "    user_hidden = Embedding(input_dim=num_users, output_dim=64)(user_inp)\n",
    "    user_hidden = Flatten()(user_hidden)\n",
    "    \n",
    "    item_inp = Input((1,))\n",
    "    item_hidden = Embedding(input_dim=num_movies, output_dim=64)(item_inp)\n",
    "    item_hidden = Flatten()(item_hidden)\n",
    "    \n",
    "    # element-wise multiplication\n",
    "    mf_output = Multiply()([user_hidden, item_hidden])\n",
    "    \n",
    "    hidden = concatenate([user_hidden, item_hidden])\n",
    "    hidden = Dense(128, activation='relu')(hidden)\n",
    "    hidden = Dropout(0.2)(hidden)\n",
    "    mlp_output = Dense(64, activation='relu')(hidden)\n",
    "    \n",
    "    # features\n",
    "    feat_inp = Input(shape=(feat,))\n",
    "    feat_hidden = Dense(units=feat, activation='relu', kernel_regularizer=regularizers.l2(0.1))(feat_inp)\n",
    "    feat_hidden = Dropout(0.5)(feat_hidden)\n",
    "\n",
    "    \n",
    "    output = concatenate([mf_output, mlp_output, feat_hidden])\n",
    "    output = Dense(1, activation='sigmoid')(output)\n",
    "    \n",
    "    model = Model(inputs=[user_inp, item_inp, feat_inp], outputs=output)\n",
    "    model.compile(loss='mse', optimizer='adam')\n",
    "    plot_model(model, show_shapes=True, to_file='neural_feat.png')\n",
    "    return model"
   ]
  },
  {
   "cell_type": "code",
   "execution_count": 32,
   "id": "65ddf01a",
   "metadata": {},
   "outputs": [
    {
     "name": "stdout",
     "output_type": "stream",
     "text": [
      "Model: \"model_2\"\n",
      "__________________________________________________________________________________________________\n",
      "Layer (type)                    Output Shape         Param #     Connected to                     \n",
      "==================================================================================================\n",
      "input_3 (InputLayer)            (None, 1)            0                                            \n",
      "__________________________________________________________________________________________________\n",
      "input_4 (InputLayer)            (None, 1)            0                                            \n",
      "__________________________________________________________________________________________________\n",
      "embedding_3 (Embedding)         (None, 1, 64)        39040       input_3[0][0]                    \n",
      "__________________________________________________________________________________________________\n",
      "embedding_4 (Embedding)         (None, 1, 64)        622336      input_4[0][0]                    \n",
      "__________________________________________________________________________________________________\n",
      "flatten_3 (Flatten)             (None, 64)           0           embedding_3[0][0]                \n",
      "__________________________________________________________________________________________________\n",
      "flatten_4 (Flatten)             (None, 64)           0           embedding_4[0][0]                \n",
      "__________________________________________________________________________________________________\n",
      "concatenate_3 (Concatenate)     (None, 128)          0           flatten_3[0][0]                  \n",
      "                                                                 flatten_4[0][0]                  \n",
      "__________________________________________________________________________________________________\n",
      "dense_4 (Dense)                 (None, 128)          16512       concatenate_3[0][0]              \n",
      "__________________________________________________________________________________________________\n",
      "input_5 (InputLayer)            (None, 19)           0                                            \n",
      "__________________________________________________________________________________________________\n",
      "dropout_2 (Dropout)             (None, 128)          0           dense_4[0][0]                    \n",
      "__________________________________________________________________________________________________\n",
      "dense_6 (Dense)                 (None, 19)           380         input_5[0][0]                    \n",
      "__________________________________________________________________________________________________\n",
      "multiply_2 (Multiply)           (None, 64)           0           flatten_3[0][0]                  \n",
      "                                                                 flatten_4[0][0]                  \n",
      "__________________________________________________________________________________________________\n",
      "dense_5 (Dense)                 (None, 64)           8256        dropout_2[0][0]                  \n",
      "__________________________________________________________________________________________________\n",
      "dropout_3 (Dropout)             (None, 19)           0           dense_6[0][0]                    \n",
      "__________________________________________________________________________________________________\n",
      "concatenate_4 (Concatenate)     (None, 147)          0           multiply_2[0][0]                 \n",
      "                                                                 dense_5[0][0]                    \n",
      "                                                                 dropout_3[0][0]                  \n",
      "__________________________________________________________________________________________________\n",
      "dense_7 (Dense)                 (None, 1)            148         concatenate_4[0][0]              \n",
      "==================================================================================================\n",
      "Total params: 686,672\n",
      "Trainable params: 686,672\n",
      "Non-trainable params: 0\n",
      "__________________________________________________________________________________________________\n"
     ]
    }
   ],
   "source": [
    "model2 = define_model2()\n",
    "model2.summary()"
   ]
  },
  {
   "cell_type": "code",
   "execution_count": 33,
   "id": "351a9ae7",
   "metadata": {},
   "outputs": [
    {
     "data": {
      "image/png": "[encoded data removed]",
      "text/plain": [
       "<IPython.core.display.Image object>"
      ]
     },
     "execution_count": 33,
     "metadata": {
      "image/png": {
       "height": 512,
       "width": 680
      }
     },
     "output_type": "execute_result"
    }
   ],
   "source": [
    "Image('neural_feat.png', width= 680, height=512)"
   ]
  },
  {
   "cell_type": "code",
   "execution_count": 34,
   "id": "03b29409",
   "metadata": {},
   "outputs": [
    {
     "name": "stderr",
     "output_type": "stream",
     "text": [
      "C:\\Users\\Mi\\anaconda3\\envs\\env_nlpgpu\\lib\\site-packages\\tensorflow_core\\python\\framework\\indexed_slices.py:433: UserWarning: Converting sparse IndexedSlices to a dense Tensor of unknown shape. This may consume a large amount of memory.\n",
      "  \"Converting sparse IndexedSlices to a dense Tensor of unknown shape. \"\n"
     ]
    },
    {
     "name": "stdout",
     "output_type": "stream",
     "text": [
      "Train on 80668 samples, validate on 20168 samples\n",
      "Epoch 1/5\n",
      "80668/80668 [==============================] - 7s 82us/step - loss: 0.3881 - val_loss: 0.0442\n",
      "Epoch 2/5\n",
      "80668/80668 [==============================] - 6s 80us/step - loss: 0.0284 - val_loss: 0.0414\n",
      "Epoch 3/5\n",
      "80668/80668 [==============================] - 6s 79us/step - loss: 0.0260 - val_loss: 0.0418\n",
      "Epoch 4/5\n",
      "80668/80668 [==============================] - 6s 79us/step - loss: 0.0241 - val_loss: 0.0427\n",
      "Epoch 5/5\n",
      "80668/80668 [==============================] - 6s 79us/step - loss: 0.0219 - val_loss: 0.0454\n"
     ]
    },
    {
     "data": {
      "text/plain": [
       "<keras.callbacks.callbacks.History at 0x1417dd59e08>"
      ]
     },
     "execution_count": 34,
     "metadata": {},
     "output_type": "execute_result"
    }
   ],
   "source": [
    "model2.fit([train_user_ids, train_movie_ids, train_feat], train_ratings,\\\n",
    "          validation_data=([val_user_ids, val_movie_ids, val_feat], val_ratings), epochs=5, batch_size=128)"
   ]
  },
  {
   "cell_type": "code",
   "execution_count": 35,
   "id": "abc113c1",
   "metadata": {},
   "outputs": [
    {
     "data": {
      "text/plain": [
       "0.8722481604940866"
      ]
     },
     "execution_count": 35,
     "metadata": {},
     "output_type": "execute_result"
    }
   ],
   "source": [
    "# prediction and evaluation\n",
    "predictions = model2.predict([val_user_ids, val_movie_ids, val_feat])\n",
    "evaluate_prediction(predictions[:,0])"
   ]
  },
  {
   "cell_type": "code",
   "execution_count": null,
   "id": "eda933b5",
   "metadata": {},
   "outputs": [],
   "source": []
  }
 ],
 "metadata": {
  "kernelspec": {
   "display_name": "Python 3 (ipykernel)",
   "language": "python",
   "name": "python3"
  },
  "language_info": {
   "codemirror_mode": {
    "name": "ipython",
    "version": 3
   },
   "file_extension": ".py",
   "mimetype": "text/x-python",
   "name": "python",
   "nbconvert_exporter": "python",
   "pygments_lexer": "ipython3",
   "version": "3.7.9"
  }
 },
 "nbformat": 4,
 "nbformat_minor": 5
}
